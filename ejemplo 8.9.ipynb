{
 "cells": [
  {
   "cell_type": "markdown",
   "metadata": {},
   "source": [
    "# EJEMPLO 8.9\n",
    "\n",
    "ENERGIA DEL ESTADO TERRESTRE EN UN POZO CUANTICO.\n",
    "\n",
    "Calcularemos la energia del estado fundamental de un electrón en un pozo de potencial cuadrado con paredes infinitamente altas separados por una distancia L igual al radio de Borh $a_{0}=5.292 x10^{-11}m$"
   ]
  },
  {
   "cell_type": "code",
   "execution_count": 2,
   "metadata": {},
   "outputs": [],
   "source": [
    "from numpy import array, arange"
   ]
  },
  {
   "cell_type": "code",
   "execution_count": 3,
   "metadata": {},
   "outputs": [
    {
     "name": "stdout",
     "output_type": "stream",
     "text": [
      "E = 134.27622174401924 eV\n"
     ]
    }
   ],
   "source": [
    "#constantes\n",
    "\n",
    "m=9.1094e-31 #masa del electron\n",
    "hbar=1.0546e-34 #constante de Planck sobre 2*pi\n",
    "e=1.6022e-19 # carga electron\n",
    "L=5.292e-11 # radio de Borh\n",
    "N=1000\n",
    "h=L/N\n",
    "\n",
    "#Función Potencial\n",
    "\n",
    "def V(x):\n",
    "    return 0.0\n",
    "\n",
    "def f(r,x,E):\n",
    "    psi=r[0]\n",
    "    phi=r[1]\n",
    "    fpsi = phi\n",
    "    fphi = (2*m/hbar**2)*(V(x)-E)*psi\n",
    "    return array([fpsi,fphi],float)\n",
    "\n",
    "#calculo de la función de onda para una energía particular\n",
    "\n",
    "def solve(E):\n",
    "    psi=0.0\n",
    "    phi=1.0\n",
    "    r = array([psi,phi],float)\n",
    "    \n",
    "    for x in arange(0,L,h):\n",
    "        k1 = h*f(r,x,E)\n",
    "        k2 = h*f(r+0.5*k1,x+0.5*h,E)\n",
    "        k3 = h*f(r+0.5*k2,x+0.5*h,E)\n",
    "        k4 = h*f(r+k3,x+h,E)\n",
    "        r += (k1+2*k2+2*k3+k4)/6\n",
    "    \n",
    "    return r[0]\n",
    "\n",
    "# programa principal para encontar la energia usando el metodo secante\n",
    "\n",
    "E1 = 0.0\n",
    "E2 = e\n",
    "psi2 = solve(E1)\n",
    "#print(psi2)\n",
    "obj = e/1000\n",
    "while abs(E1-E2)>obj:\n",
    "    psi1,psi2 = psi2,solve(E2)\n",
    "    E1,E2 = E2,E2-psi2*(E2-E1)/(psi2-psi1)\n",
    "\n",
    "print(\"E =\", E2/e,\"eV\")\n"
   ]
  },
  {
   "cell_type": "markdown",
   "metadata": {},
   "source": [
    "cuál es de hecho la respuesta correcta.  Tenga en cuenta que la función V(x) no hace nada en este programa, ya que el potencial en todas partes del pozo es cero, no juega ningún papel en el cálculo.  Sin embargo, al incluir la función en el programa, facilitamos la resolución de otros problemas de pozos potenciales menos triviales.  Por ejemplo, suponga que el potencial dentro del pozo no es cero, sino que varía según\n",
    "\n",
    "\\begin{equation*}\n",
    "V(x)=v_{0}\\frac{x}{L}\\left ( \\frac{x}{L}-1 \\right )\n",
    "\\end{equation*}\n",
    "\n",
    "donde $Vo = 100$ eV.  Es una cuestión simple de resolver para la energía del estado fundamental de este problema también.  Solo tenemos que cambiar la función V(x).\n",
    "\n",
    "Entonces ejecutando el programa nuevamente, esta vez encontramos la energía del estado fundamental.\n"
   ]
  },
  {
   "cell_type": "code",
   "execution_count": 5,
   "metadata": {},
   "outputs": [
    {
     "name": "stdout",
     "output_type": "stream",
     "text": [
      "E = 112.52995623945576 eV\n"
     ]
    }
   ],
   "source": [
    "#constantes\n",
    "\n",
    "m=9.1094e-31 #masa del electron\n",
    "hbar=1.0546e-34 #constante de Planck sobre 2*pi\n",
    "e=1.6022e-19 # carga electron\n",
    "L=5.292e-11 # radio de Borh\n",
    "N=1000\n",
    "h=L/N\n",
    "vo=100*e\n",
    "\n",
    "#Función Potencial\n",
    "\n",
    "def V(x):\n",
    "    return vo*(x/L)*((x/L)-1)\n",
    "\n",
    "def f(r,x,E):\n",
    "    psi=r[0]\n",
    "    phi=r[1]\n",
    "    fpsi = phi\n",
    "    fphi = (2*m/hbar**2)*(V(x)-E)*psi\n",
    "    return array([fpsi,fphi],float)\n",
    "\n",
    "#calculo de la función de onda para una energía particular\n",
    "\n",
    "def solve(E):\n",
    "    psi=0.0\n",
    "    phi=1.0\n",
    "    r = array([psi,phi],float)\n",
    "    \n",
    "    for x in arange(0,L,h):\n",
    "        k1 = h*f(r,x,E)\n",
    "        k2 = h*f(r+0.5*k1,x+0.5*h,E)\n",
    "        k3 = h*f(r+0.5*k2,x+0.5*h,E)\n",
    "        k4 = h*f(r+k3,x+h,E)\n",
    "        r += (k1+2*k2+2*k3+k4)/6\n",
    "    \n",
    "    return r[0]\n",
    "\n",
    "# programa principal para encontar la energia usando el metodo secante\n",
    "\n",
    "E1 = 0.0\n",
    "E2 = e\n",
    "psi2 = solve(E1)\n",
    "#print(psi2)\n",
    "obj = e/1000\n",
    "while abs(E1-E2)>obj:\n",
    "    psi1,psi2 = psi2,solve(E2)\n",
    "    E1,E2 = E2,E2-psi2*(E2-E1)/(psi2-psi1)\n",
    "\n",
    "print(\"E =\", E2/e,\"eV\")"
   ]
  },
  {
   "cell_type": "markdown",
   "metadata": {},
   "source": [
    "Aunque el problema del pozo cuadrado original es relativamente fácil de resolver analíticamente, esta segunda versión del problema con un potencial variable sería mucho más difícil y, sin embargo, se logra una solución fácilmente usando la computadora."
   ]
  }
 ],
 "metadata": {
  "kernelspec": {
   "display_name": "Python 3",
   "language": "python",
   "name": "python3"
  },
  "language_info": {
   "codemirror_mode": {
    "name": "ipython",
    "version": 3
   },
   "file_extension": ".py",
   "mimetype": "text/x-python",
   "name": "python",
   "nbconvert_exporter": "python",
   "pygments_lexer": "ipython3",
   "version": "3.5.2"
  }
 },
 "nbformat": 4,
 "nbformat_minor": 2
}
